{
  "nbformat": 4,
  "nbformat_minor": 0,
  "metadata": {
    "colab": {
      "name": "PandasDemo.ipynb",
      "provenance": [],
      "collapsed_sections": [],
      "mount_file_id": "1oVNZNHzD_o6q-cGXQZYDblJZcvx8f2eY",
      "authorship_tag": "ABX9TyNlVpUvc8JGG6DKcyDCp+Zf",
      "include_colab_link": true
    },
    "kernelspec": {
      "name": "python3",
      "display_name": "Python 3"
    },
    "language_info": {
      "name": "python"
    }
  },
  "cells": [
    {
      "cell_type": "markdown",
      "metadata": {
        "id": "view-in-github",
        "colab_type": "text"
      },
      "source": [
        "<a href=\"https://colab.research.google.com/github/darkginka/Diet-Recommanded-System/blob/main/PandasDemo.ipynb\" target=\"_parent\"><img src=\"https://colab.research.google.com/assets/colab-badge.svg\" alt=\"Open In Colab\"/></a>"
      ]
    },
    {
      "cell_type": "markdown",
      "source": [
        "**Project**"
      ],
      "metadata": {
        "id": "oiyHa34jimWa"
      }
    },
    {
      "cell_type": "code",
      "source": [
        "from google.colab import drive\n",
        "drive.mount('/content/drive')"
      ],
      "metadata": {
        "id": "-OCXJ-Irjoon",
        "colab": {
          "base_uri": "https://localhost:8080/"
        },
        "outputId": "108e697d-9659-4ef4-c1b5-47a44361a4ab"
      },
      "execution_count": null,
      "outputs": [
        {
          "output_type": "stream",
          "name": "stdout",
          "text": [
            "Drive already mounted at /content/drive; to attempt to forcibly remount, call drive.mount(\"/content/drive\", force_remount=True).\n"
          ]
        }
      ]
    },
    {
      "cell_type": "code",
      "source": [
        "import pandas as pd\n",
        "import matplotlib.pyplot as plt\n",
        "from sklearn.cluster import KMeans"
      ],
      "metadata": {
        "id": "E_3sWFropupF"
      },
      "execution_count": null,
      "outputs": []
    },
    {
      "cell_type": "code",
      "source": [
        "df = pd.read_csv('/content/drive/MyDrive/PROJECT/DRS/dataset/food_nutrition.csv')"
      ],
      "metadata": {
        "id": "aHaK2Rx-6DYB"
      },
      "execution_count": null,
      "outputs": []
    },
    {
      "cell_type": "code",
      "source": [
        "df.info()"
      ],
      "metadata": {
        "id": "TOyCWGrb6dBs"
      },
      "execution_count": null,
      "outputs": []
    },
    {
      "cell_type": "code",
      "source": [
        "df.head()"
      ],
      "metadata": {
        "id": "Bjxce-Kh6ogD"
      },
      "execution_count": null,
      "outputs": []
    },
    {
      "cell_type": "code",
      "source": [
        "import numpy as np\n",
        "from sklearn.model_selection import train_test_split"
      ],
      "metadata": {
        "id": "IBNgLja96ti0"
      },
      "execution_count": null,
      "outputs": []
    },
    {
      "cell_type": "code",
      "source": [
        "X=df[:10]\n",
        "y=df[1:]\n",
        "#y=df['Carbohydrate','Niacin','Protein']"
      ],
      "metadata": {
        "id": "IdbyD_Pb84zu"
      },
      "execution_count": null,
      "outputs": []
    },
    {
      "cell_type": "code",
      "source": [
        "X_train, X_test, y_train, y_test = train_test_split(X, y, train_size=0.7, random_state=42)\n",
        "X_train.shape, X_test.shape"
      ],
      "metadata": {
        "id": "dJo1JQ1B60O6"
      },
      "execution_count": null,
      "outputs": []
    },
    {
      "cell_type": "code",
      "source": [
        "from sklearn.tree import DecisionTreeClassifier"
      ],
      "metadata": {
        "id": "hHn2iCyv8ZTT"
      },
      "execution_count": null,
      "outputs": []
    },
    {
      "cell_type": "code",
      "source": [
        "dt = DecisionTreeClassifier(max_depth=3)\n",
        "dt.fit(X_train, y_train)"
      ],
      "metadata": {
        "colab": {
          "base_uri": "https://localhost:8080/"
        },
        "id": "soKVtBtV8XCv",
        "outputId": "c7ee245c-0330-4b3b-d13b-b07062beabb4"
      },
      "execution_count": null,
      "outputs": [
        {
          "output_type": "execute_result",
          "data": {
            "text/plain": [
              "DecisionTreeClassifier(max_depth=3)"
            ]
          },
          "metadata": {},
          "execution_count": 20
        }
      ]
    },
    {
      "cell_type": "code",
      "source": [
        "dot_data = StringIO()  \n",
        "\n",
        "export_graphviz(dt, out_file=dot_data, filled=True,\n",
        "                feature_names=X.columns, \n",
        "                class_names=['No Disease', \"Disease\"])"
      ],
      "metadata": {
        "id": "Qw-51vOU-cDE"
      },
      "execution_count": null,
      "outputs": []
    },
    {
      "cell_type": "code",
      "source": [
        "graph = pydotplus.graph_from_dot_data(dot_data.getvalue())\n",
        "Image(graph.create_png())"
      ],
      "metadata": {
        "id": "NnARH54G-k_R"
      },
      "execution_count": null,
      "outputs": []
    },
    {
      "cell_type": "code",
      "source": [
        "from IPython.display import Image  \n",
        "from six import StringIO  \n",
        "from sklearn.tree import export_graphviz\n",
        "import pydotplus, graphviz"
      ],
      "metadata": {
        "id": "JWM6sZvF8U8v"
      },
      "execution_count": null,
      "outputs": []
    },
    {
      "cell_type": "code",
      "source": [
        "####### Methods #######\n",
        "def get_disease(disease):\n",
        "\treturn DN[DN.disease == disease][\"disease\"].values[0]\n",
        "\n",
        "def get_disease_name(disease_id):\n",
        "\treturn DN[DN.disease_id == disease_id][\"disease\"].values[0]\n",
        "\n",
        "def get_disease_id(disease):\n",
        "\treturn DN[DN.disease == disease][\"disease_id\"].values[0]\n",
        "\n",
        "def get_disease_ie(disease):\n",
        "\treturn DN[DN.disease == disease][\"ineficient_nutritions\"].values[0]"
      ],
      "metadata": {
        "id": "kb4XBo5HHHM_"
      },
      "execution_count": null,
      "outputs": []
    },
    {
      "cell_type": "code",
      "metadata": {
        "id": "rKmTI-9rRePE"
      },
      "source": [
        "####### dataset #######\n",
        "FN = pd.read_csv(\"/content/drive/MyDrive/PROJECT/DRS/dataset/food_nutrition.csv\")\n",
        "DN = pd.read_csv(\"/content/drive/MyDrive/PROJECT/DRS/dataset/disease_nutrition.csv\",encoding='unicode_escape')\n",
        "\n",
        "####### Part-1 #######\n",
        "users_disease = input(\"Enter Disease Name: \")\n",
        "disease_name = get_disease(users_disease)\n",
        "disease_id = get_disease_id(disease_name)\n",
        "i= disease_id-101\n",
        "\n",
        "#p = DN.Precaution_1[i],DN.Precaution_2[i],DN.Precaution_3[i]\n",
        "\n",
        "print(DN.iloc[i])         \n",
        "\n",
        "disease_ie = get_disease_ie(disease_name)\n",
        "#Convert disease-nutritions column value into list\n",
        "dis_list = list(disease_ie.split(\" \"))\n",
        "#print(dis_list)\n",
        "#Convert food column into list\n",
        "col_list = FN.columns.values.tolist()\n",
        "#print(col_list)\n"
      ],
      "execution_count": null,
      "outputs": []
    },
    {
      "cell_type": "code",
      "source": [
        "df = pd.read_csv(\"/content/drive/MyDrive/PROJECT/DRS/dataset/test.csv\")\n",
        "print(df.head(5))\n",
        "#print(df.columns)\n",
        "kmeans = KMeans(n_clusters=3).fit(df[['Potassium','Protein']])\n",
        "\n",
        "centroids = kmeans.cluster_centers_\n",
        "print(centroids)\n",
        "plt.scatter(df['Potassium'], df['Protein'], c= kmeans.labels_.astype(float), s=50, alpha=0.5)\n",
        "plt.scatter(centroids[:, 0], centroids[:, 1], c='red', s=50)\n",
        "plt.show()"
      ],
      "metadata": {
        "id": "5rGoXn3Rj10V"
      },
      "execution_count": null,
      "outputs": []
    },
    {
      "cell_type": "code",
      "source": [
        "from sklearn.ensemble import RandomForestClassifier\n",
        "from sklearn.datasets import make_classification\n",
        "X, y = make_classification(n_samples=1000, n_features=4,\n",
        "                           n_informative=2, n_redundant=0,\n",
        "                           random_state=0, shuffle=False)\n",
        "clf = RandomForestClassifier(max_depth=2, random_state=0)\n",
        "clf.fit(X, y)\n",
        "\n",
        "print(clf.predict([[0, 0, 0, 0]]))"
      ],
      "metadata": {
        "colab": {
          "base_uri": "https://localhost:8080/"
        },
        "id": "YCmI_uZi4spx",
        "outputId": "e13d6f12-69d6-44e8-f213-2386ad13b14a"
      },
      "execution_count": null,
      "outputs": [
        {
          "output_type": "stream",
          "name": "stdout",
          "text": [
            "[1]\n"
          ]
        }
      ]
    },
    {
      "cell_type": "markdown",
      "source": [
        " **Chart Pie**"
      ],
      "metadata": {
        "id": "L8PCSmP0isxP"
      }
    },
    {
      "cell_type": "code",
      "metadata": {
        "id": "hRNZKD3t-AV5"
      },
      "source": [
        "labels= ['Protien', 'Vitamin_B6', 'Vitamin_A', 'Iron','Sodium']\n",
        "#print(type(labels))\n",
        "sizes= [1300, 600, 500, 300,100]\n",
        "plt.pie(sizes,labels=labels, startangle=90, shadow=True,explode=(0.1, 0.1, 0.1, 0.1,0.1), autopct='%1.2f%%')\n",
        "plt.title('Food For Diet')\n",
        "plt.axis('equal')\n",
        "plt.show()"
      ],
      "execution_count": null,
      "outputs": []
    },
    {
      "cell_type": "markdown",
      "source": [
        "**Bar Chart**"
      ],
      "metadata": {
        "id": "edYATZhkjZDb"
      }
    },
    {
      "cell_type": "code",
      "metadata": {
        "id": "ircAu3zi-aay"
      },
      "source": [
        "import numpy as np\n",
        "import matplotlib.pyplot as plt\n",
        "N = 5\n",
        "menMeans = (20, 35, 30, 35, 27)\n",
        "womenMeans = (25, 32, 34, 20, 25)\n",
        "ind = np.arange(N) # the x locations for the groups\n",
        "width = 0.35\n",
        "fig = plt.figure()\n",
        "ax = fig.add_axes([0,0,1,1])\n",
        "ax.bar(ind, menMeans, width, color='r')\n",
        "ax.bar(ind, womenMeans, width,bottom=menMeans, color='b')\n",
        "ax.set_ylabel('Scores')\n",
        "ax.set_title('Scores by group and gender')\n",
        "ax.set_xticks(ind, ('G1', 'G2', 'G3', 'G4', 'G5'))\n",
        "ax.set_yticks(np.arange(0, 81, 10))\n",
        "ax.legend(labels=['Men', 'Women'])\n",
        "plt.show()"
      ],
      "execution_count": null,
      "outputs": []
    },
    {
      "cell_type": "markdown",
      "source": [
        "**Horizonatal Bar**"
      ],
      "metadata": {
        "id": "eP7-tDY7jBLV"
      }
    },
    {
      "cell_type": "code",
      "metadata": {
        "id": "yXrMtaev-qMF"
      },
      "source": [
        "import numpy as np\n",
        "import matplotlib.pyplot as plt\n",
        "\n",
        "\n",
        "# creating the dataset\n",
        "data = {'C':20, 'C++':15, 'Java':30,\n",
        "\t\t'Python':35}\n",
        "courses = list(data.keys())\n",
        "values = list(data.values())\n",
        "\n",
        "fig = plt.figure(figsize = (10, 5))\n",
        "\n",
        "# creating the bar plot\n",
        "plt.bar(courses, values, color ='maroon',\n",
        "\t\twidth = 0.4)\n",
        "\n",
        "plt.xlabel(\"Courses offered\")\n",
        "plt.ylabel(\"No. of students enrolled\")\n",
        "plt.title(\"Students enrolled in different courses\")\n",
        "plt.show()"
      ],
      "execution_count": null,
      "outputs": []
    },
    {
      "cell_type": "markdown",
      "source": [
        "**Vertial** **Bar**"
      ],
      "metadata": {
        "id": "5kLGdMmLjK7g"
      }
    },
    {
      "cell_type": "code",
      "metadata": {
        "id": "JvE21nqo-9GZ"
      },
      "source": [
        "import pandas as pd\n",
        "from matplotlib import pyplot as plt\n",
        "\n",
        "# Read CSV into pandas\n",
        "data = pd.read_csv(\"/content/drive/MyDrive/PROJECT/DRS/dataset/food_nutrition.csv\")\n",
        "data.head()\n",
        "df = pd.DataFrame(data)\n",
        "\n",
        "name = df['Description'].head(12)\n",
        "price = df['Protein'].head(12)\n",
        "\n",
        "# Figure Size\n",
        "fig, ax = plt.subplots(figsize =(16, 9))\n",
        "\n",
        "# Horizontal Bar Plot\n",
        "ax.barh(name, price)\n",
        "\n",
        "# Remove axes splines\n",
        "for s in ['top', 'bottom', 'left', 'right']:\n",
        "\tax.spines[s].set_visible(False)\n",
        "\n",
        "# Remove x, y Ticks\n",
        "ax.xaxis.set_ticks_position('none')\n",
        "ax.yaxis.set_ticks_position('none')\n",
        "\n",
        "# Add padding between axes and labels\n",
        "ax.xaxis.set_tick_params(pad = 5)\n",
        "ax.yaxis.set_tick_params(pad = 10)\n",
        "\n",
        "# Add x, y gridlines\n",
        "ax.grid(b = True, color ='grey',\n",
        "\t\tlinestyle ='-.', linewidth = 0.5,\n",
        "\t\talpha = 0.2)\n",
        "\n",
        "# Show top values\n",
        "ax.invert_yaxis()\n",
        "\n",
        "# Add annotation to bars\n",
        "for i in ax.patches:\n",
        "\tplt.text(i.get_width()+0.2, i.get_y()+0.5,\n",
        "\t\t\tstr(round((i.get_width()), 2)),\n",
        "\t\t\tfontsize = 10, fontweight ='bold',\n",
        "\t\t\tcolor ='grey')\n",
        "\n",
        "# Add Plot Title\n",
        "ax.set_title('Diet and their quantity',\n",
        "\t\t\tloc ='left', )\n",
        "\n",
        "# Add Text watermark\n",
        "fig.text(0.9, 0.15, 'Jeeteshgavande30', fontsize = 12,\n",
        "\t\tcolor ='grey', ha ='right', va ='bottom',\n",
        "\t\talpha = 0.7)\n",
        "\n",
        "# Show Plot\n",
        "plt.show()"
      ],
      "execution_count": null,
      "outputs": []
    }
  ]
}