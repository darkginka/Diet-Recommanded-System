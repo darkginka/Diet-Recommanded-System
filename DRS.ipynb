{
  "nbformat": 4,
  "nbformat_minor": 0,
  "metadata": {
    "colab": {
      "name": "DRS.ipynb",
      "provenance": [],
      "collapsed_sections": [],
      "mount_file_id": "1oVNZNHzD_o6q-cGXQZYDblJZcvx8f2eY",
      "authorship_tag": "ABX9TyPy4Zucc0qYsJct+t3I/cvj",
      "include_colab_link": true
    },
    "kernelspec": {
      "name": "python3",
      "display_name": "Python 3"
    },
    "language_info": {
      "name": "python"
    }
  },
  "cells": [
    {
      "cell_type": "markdown",
      "metadata": {
        "id": "view-in-github",
        "colab_type": "text"
      },
      "source": [
        "<a href=\"https://colab.research.google.com/github/darkginka/Diet-Recommanded-System/blob/main/DRS.ipynb\" target=\"_parent\"><img src=\"https://colab.research.google.com/assets/colab-badge.svg\" alt=\"Open In Colab\"/></a>"
      ]
    },
    {
      "cell_type": "markdown",
      "source": [
        "**Project Start**"
      ],
      "metadata": {
        "id": "oiyHa34jimWa"
      }
    },
    {
      "cell_type": "code",
      "source": [
        "from google.colab import drive\n",
        "drive.mount('/content/drive')"
      ],
      "metadata": {
        "id": "-OCXJ-Irjoon",
        "colab": {
          "base_uri": "https://localhost:8080/"
        },
        "outputId": "8d70b69a-a2eb-4e39-ea8b-bff238f6e347"
      },
      "execution_count": null,
      "outputs": [
        {
          "output_type": "stream",
          "name": "stdout",
          "text": [
            "Drive already mounted at /content/drive; to attempt to forcibly remount, call drive.mount(\"/content/drive\", force_remount=True).\n"
          ]
        }
      ]
    },
    {
      "cell_type": "code",
      "source": [
        "import pandas as pd"
      ],
      "metadata": {
        "id": "E_3sWFropupF"
      },
      "execution_count": null,
      "outputs": []
    },
    {
      "cell_type": "code",
      "source": [
        "####### dataset #######\n",
        "food_nutrition = pd.read_csv(\"/content/drive/MyDrive/dataset/food_nutrition.csv\")\n",
        "disease_nutrition = pd.read_csv(\"/content/drive/MyDrive/dataset/disease_nutrition.csv\",encoding='unicode_escape')"
      ],
      "metadata": {
        "id": "8v_IcgfVKcFk"
      },
      "execution_count": null,
      "outputs": []
    },
    {
      "cell_type": "code",
      "source": [
        "#food_nutrition.info()\n",
        "for col in food_nutrition.columns:\n",
        "    print(col)\n",
        "# food_nutrition.head()"
      ],
      "metadata": {
        "id": "TOyCWGrb6dBs"
      },
      "execution_count": null,
      "outputs": []
    },
    {
      "cell_type": "code",
      "source": [
        "# disease_nutrition.info()\n",
        "disease_nutrition.head()"
      ],
      "metadata": {
        "id": "v9DgO6RuQpVG"
      },
      "execution_count": null,
      "outputs": []
    },
    {
      "cell_type": "markdown",
      "source": [
        "**Part-1**"
      ],
      "metadata": {
        "id": "JQlcIsjBcS3v"
      }
    },
    {
      "cell_type": "code",
      "source": [
        "####### Methods #######\n",
        "def get_disease(disease_name):\n",
        "\tif(disease_name not in list(disease_nutrition[\"disease\"])):\n",
        "\t\treturn False\n",
        "\telse:\n",
        "\t\treturn disease_nutrition[disease_nutrition.disease==disease_name][\"disease\"].values[0]\n",
        "\n",
        "def get_disease_name(disease_id):\n",
        "\treturn disease_nutrition[disease_nutrition.disease_id == disease_id][\"disease\"].values[0]\n",
        "\n",
        "def get_disease_id(disease):\n",
        "\treturn disease_nutrition[disease_nutrition.disease == disease][\"disease_id\"].values[0]\n",
        "\n",
        "def get_disease_ie(disease):\n",
        "\treturn disease_nutrition[disease_nutrition.disease == disease][\"ineficient_nutritions\"].values[0]"
      ],
      "metadata": {
        "id": "kb4XBo5HHHM_"
      },
      "execution_count": null,
      "outputs": []
    },
    {
      "cell_type": "code",
      "metadata": {
        "id": "rKmTI-9rRePE"
      },
      "source": [
        "####### get-set Data #######\n",
        "users_disease = input(\"Enter Disease Name: \")\n",
        "disease_name = get_disease(users_disease)\n",
        "if(disease_name==False):\n",
        "  print(\"Disease Not Found\")\n",
        "else:\n",
        "  disease_id = get_disease_id(disease_name)\n",
        "  i= disease_id-101\n",
        "  print(disease_nutrition.iloc[i])         \n",
        "  disease_ie = get_disease_ie(disease_name)\n",
        "  # print(disease_ie)\n",
        "#Convert disease-nutritions column value into list\n",
        "  dis_list = list(disease_ie.split(\" \"))\n",
        "#Convert food column into list\n",
        "  col_list = food_nutrition.columns.values.tolist()\n",
        "  print(dis_list)\n",
        "  for ele in dis_list:\n",
        "    if(ele==\"\"):\n",
        "      dis_list.remove(ele)\n",
        "  print(dis_list)"
      ],
      "execution_count": null,
      "outputs": []
    },
    {
      "cell_type": "markdown",
      "source": [
        "**Part-2**"
      ],
      "metadata": {
        "id": "keV_1MB7JTH4"
      }
    },
    {
      "cell_type": "code",
      "source": [
        "import seaborn as sns\n",
        "import matplotlib.pyplot as plt"
      ],
      "metadata": {
        "id": "Xjt96DIpCbGL"
      },
      "execution_count": null,
      "outputs": []
    },
    {
      "cell_type": "code",
      "source": [
        "ax = sns.heatmap(food_nutrition.corr(), annot=True)\n",
        "plt.show()"
      ],
      "metadata": {
        "id": "OS9YcHfjr9z6"
      },
      "execution_count": null,
      "outputs": []
    },
    {
      "cell_type": "code",
      "source": [
        "food_nutrition[['Vitamin_A', 'Vitamin_B12', 'Vitamin_B6', 'Vitamin_C', \n",
        "           'Vitamin_E', 'Vitamin_K']].hist(bins=50, figsize=(10,10))\n",
        "plt.show()"
      ],
      "metadata": {
        "id": "cfS4GiOsscab"
      },
      "execution_count": null,
      "outputs": []
    },
    {
      "cell_type": "markdown",
      "source": [
        "**Preprocessing data**"
      ],
      "metadata": {
        "id": "CEtSfU90uXn4"
      }
    },
    {
      "cell_type": "code",
      "source": [
        "from sklearn.preprocessing import MinMaxScaler"
      ],
      "metadata": {
        "id": "R_moi4NvuNBg"
      },
      "execution_count": null,
      "outputs": []
    },
    {
      "cell_type": "code",
      "source": [
        "columns_to_cluster = ['Vitamin_A', 'Vitamin_B12', 'Vitamin_B6', 'Vitamin_C', \n",
        "           'Vitamin_E', 'Vitamin_K']"
      ],
      "metadata": {
        "id": "B4NwN2TrtKpa"
      },
      "execution_count": null,
      "outputs": []
    },
    {
      "cell_type": "code",
      "source": [
        "#MinMaxScaler\n",
        "#Transform features by scaling each feature to a given range.\n",
        "mms = MinMaxScaler()\n",
        "\n",
        "food_scaled = mms.fit_transform(food_nutrition[columns_to_cluster])\n",
        "print(\"Based on: \", food_scaled[0,:])\n",
        "\n",
        "# user_scaled = mms.fit_transform(food_nutrition[columns_to_cluster])\n",
        "# print(\"user scaled: \", user_scaled[0,:])"
      ],
      "metadata": {
        "id": "dFVzAPxstSB8"
      },
      "execution_count": null,
      "outputs": []
    },
    {
      "cell_type": "code",
      "source": [
        "columns_to_cluster_scaled = ['Vitamin_A', 'Vitamin_B12', 'Vitamin_B6', 'Vitamin_C', \n",
        "           'Vitamin_E', 'Vitamin_K']"
      ],
      "metadata": {
        "id": "kpPikBjJuquY"
      },
      "execution_count": null,
      "outputs": []
    },
    {
      "cell_type": "code",
      "source": [
        "df_food_scaled = pd.DataFrame(food_scaled, columns=columns_to_cluster_scaled)"
      ],
      "metadata": {
        "id": "_TJJiZwxuc3K"
      },
      "execution_count": null,
      "outputs": []
    },
    {
      "cell_type": "code",
      "source": [
        "ax = sns.heatmap(df_food_scaled.corr(), annot=True)\n",
        "plt.show()"
      ],
      "metadata": {
        "id": "esuIwBjCuypz"
      },
      "execution_count": null,
      "outputs": []
    },
    {
      "cell_type": "markdown",
      "source": [
        "**Training the model**"
      ],
      "metadata": {
        "id": "por7U-Cru7-K"
      }
    },
    {
      "cell_type": "code",
      "source": [
        "from sklearn.manifold import TSNE\n",
        "from sklearn.cluster import KMeans\n",
        "from sklearn.decomposition import PCA\n",
        "from sklearn.metrics import silhouette_score"
      ],
      "metadata": {
        "id": "DzH0dANBvKI_"
      },
      "execution_count": null,
      "outputs": []
    },
    {
      "cell_type": "code",
      "source": [
        "n_clusters = range(2,21)\n",
        "ssd = []\n",
        "sc = []\n",
        "for n in n_clusters:\n",
        "    km = KMeans(n_clusters=n, max_iter=300, n_init=10, init='k-means++', random_state=42)\n",
        "    km.fit(food_scaled)\n",
        "    preds = km.predict(food_scaled) \n",
        "    centers = km.cluster_centers_ \n",
        "    ssd.append(km.inertia_) \n",
        "    score = silhouette_score(food_scaled, preds, metric='euclidean')\n",
        "    sc.append(score)\n",
        "    print(\"Number of Clusters = {}, Silhouette Score = {}\".format(n, score))"
      ],
      "metadata": {
        "id": "na9UZIQnu7Ky"
      },
      "execution_count": null,
      "outputs": []
    },
    {
      "cell_type": "code",
      "source": [
        "plt.plot(n_clusters, ssd, marker='.', markersize=12)\n",
        "plt.xlabel('Number of clusters')\n",
        "plt.ylabel('Sum of squared distances')\n",
        "plt.title('Elbow method for optimal K')\n",
        "plt.show()"
      ],
      "metadata": {
        "id": "qALRV_VHvfYK"
      },
      "execution_count": null,
      "outputs": []
    },
    {
      "cell_type": "code",
      "source": [
        "k=6\n",
        "model = KMeans(n_clusters=k, random_state=42).fit(food_scaled)\n",
        "pred = model.predict(food_scaled)\n",
        "print('10 first clusters: ', model.labels_[:10])"
      ],
      "metadata": {
        "id": "-AgO-LjFvi3g"
      },
      "execution_count": null,
      "outputs": []
    },
    {
      "cell_type": "markdown",
      "source": [
        "**Visualizing the clusters**"
      ],
      "metadata": {
        "id": "In0ai31rvp7E"
      }
    },
    {
      "cell_type": "code",
      "source": [
        "df_food_scaled['cluster'] = model.labels_\n",
        "df_food_scaled['cluster'].value_counts().plot(kind='bar')\n",
        "plt.xlabel('Cluster')\n",
        "plt.ylabel('Amount of food')\n",
        "plt.title('Amount of foods per cluster')\n",
        "plt.show()"
      ],
      "metadata": {
        "id": "ZAZWrHsjvm6h"
      },
      "execution_count": null,
      "outputs": []
    },
    {
      "cell_type": "code",
      "source": [
        "display(df_food_scaled['cluster'].value_counts())\n",
        "minor_cluster = df_food_scaled['cluster'].value_counts().tail(1)\n",
        "print(\"Amount of food in the smallest cluster: \", int(minor_cluster.values))"
      ],
      "metadata": {
        "id": "0Pa9WkgcvxXj"
      },
      "execution_count": null,
      "outputs": []
    },
    {
      "cell_type": "code",
      "source": [
        "df_food_joined = pd.concat([food_nutrition,df_food_scaled], axis=1).set_index('cluster')\n",
        "\n",
        "for cluster in range(k):\n",
        "    display(df_food_joined.loc[cluster, ['Description']].sample(frac=1).head(10))"
      ],
      "metadata": {
        "id": "Cr4skGQbv00I"
      },
      "execution_count": null,
      "outputs": []
    },
    {
      "cell_type": "markdown",
      "source": [
        "**Applying PCA to visualize the clusters**"
      ],
      "metadata": {
        "id": "j-WVhbG1Ei11"
      }
    },
    {
      "cell_type": "code",
      "source": [
        "pca = PCA(n_components=3, random_state=42)\n",
        "food_pca = pca.fit_transform(food_scaled)\n",
        "pca.explained_variance_ratio_.sum()"
      ],
      "metadata": {
        "id": "nk9w0Nm5ELHX"
      },
      "execution_count": null,
      "outputs": []
    },
    {
      "cell_type": "code",
      "source": [
        "df_pca = pd.DataFrame(food_pca, columns=['C1', 'C2', 'C3'])\n",
        "df_pca['cluster'] = model.labels_\n",
        "df_pca.head()"
      ],
      "metadata": {
        "id": "cEvj7pRrEtgX"
      },
      "execution_count": null,
      "outputs": []
    },
    {
      "cell_type": "code",
      "source": [
        "sampled_clusters_pca = pd.DataFrame()\n",
        "\n",
        "for c in df_pca.cluster.unique():\n",
        "    df_cluster_sampled_pca = df_pca[df_pca.cluster == c].sample(n=int(minor_cluster), random_state=42)\n",
        "    sampled_clusters_pca = pd.concat([sampled_clusters_pca,df_cluster_sampled_pca], axis=0)\n",
        "sampled_clusters_pca.cluster.value_counts()"
      ],
      "metadata": {
        "id": "XQkLhKM_E8-t"
      },
      "execution_count": null,
      "outputs": []
    },
    {
      "cell_type": "code",
      "source": [
        "sns.scatterplot(x='C1', y='C2', hue='cluster', data=sampled_clusters_pca, legend=\"full\", palette='Paired')\n",
        "plt.legend(bbox_to_anchor=(1.05, 1), loc=2, borderaxespad=0.)\n",
        "plt.title('Clusters view using PCA')\n",
        "plt.show()"
      ],
      "metadata": {
        "id": "OKypwCY1FFIV"
      },
      "execution_count": null,
      "outputs": []
    },
    {
      "cell_type": "markdown",
      "source": [
        "**Predicting users clusters**"
      ],
      "metadata": {
        "id": "xNiV7IlTFSzl"
      }
    },
    {
      "cell_type": "code",
      "source": [
        "user_pred = model.predict(food_scaled)\n",
        "print('10 first users clusters: ', user_pred[:10])"
      ],
      "metadata": {
        "id": "XIWJaZ5mFSC0"
      },
      "execution_count": null,
      "outputs": []
    },
    {
      "cell_type": "code",
      "source": [
        "user_cluster = pd.DataFrame(food_scaled, columns=columns_to_cluster_scaled)\n",
        "user_cluster['cluster'] = user_pred\n",
        "\n",
        "user_cluster['cluster'].value_counts().plot(kind='bar', color='green')\n",
        "plt.xlabel('Cluster')\n",
        "plt.ylabel('Amount of food')\n",
        "plt.title('Amount of food in the users clusters')\n",
        "plt.show()"
      ],
      "metadata": {
        "id": "K7UiVzXQFY9x"
      },
      "execution_count": null,
      "outputs": []
    },
    {
      "cell_type": "code",
      "source": [
        "df_user_food_joined = pd.concat([food_nutrition,user_cluster], axis=1).set_index('cluster')\n",
        "for cluster in user_cluster['cluster'].unique():\n",
        "    display(df_user_food_joined.loc[cluster, ['Description']].sample(frac=1).head(10))"
      ],
      "metadata": {
        "id": "TbuJPQIzFc-Q"
      },
      "execution_count": null,
      "outputs": []
    },
    {
      "cell_type": "markdown",
      "source": [
        "**Recommending Food**"
      ],
      "metadata": {
        "id": "GHWuNY-eG8X6"
      }
    },
    {
      "cell_type": "code",
      "source": [
        "df_user_food_joined.reset_index(inplace=True)\n",
        "cluster_pct = df_user_food_joined.cluster.value_counts(normalize=True)*20\n",
        "\n",
        "if int(cluster_pct.round(0).sum()) < 20:\n",
        "    cluster_pct[cluster_pct < 0.5] = cluster_pct[cluster_pct < 0.5] + 1.0\n",
        "    \n",
        "display(cluster_pct)\n",
        "print('Total food: ', int(cluster_pct.round(0).sum()))"
      ],
      "metadata": {
        "id": "x1iHxp4AHA2F"
      },
      "execution_count": null,
      "outputs": []
    },
    {
      "cell_type": "code",
      "source": [
        "df_food_joined.reset_index(inplace=True)\n",
        "df_food_joined.head(3)"
      ],
      "metadata": {
        "id": "eowKrApzHN0t"
      },
      "execution_count": null,
      "outputs": []
    },
    {
      "cell_type": "code",
      "source": [
        "df_user_food_joined['cluster_pct'] = df_user_food_joined['cluster'].apply(lambda c: cluster_pct[c])\n",
        "df_user_food_joined.drop(columns=columns_to_cluster_scaled, inplace=True)\n",
        "df_user_food_joined.head(3)"
      ],
      "metadata": {
        "id": "PuAVcEGSHZRI"
      },
      "execution_count": null,
      "outputs": []
    },
    {
      "cell_type": "code",
      "source": [
        "final_Food = pd.DataFrame()\n",
        "\n",
        "for ncluster, pct in cluster_pct.items():\n",
        "    songs = df_food_joined[df_food_joined['cluster'] == ncluster].sample(n=int(round(pct, 0)))\n",
        "    final_Food = pd.concat([final_Food,songs], ignore_index=True)\n",
        "    if len(final_Food) > 20 :\n",
        "        flag = 20 - len(final_Food)\n",
        "        final_Food = final_Food[:flag]\n",
        "final_Food.head(3)"
      ],
      "metadata": {
        "id": "LpyeWdIxHanO"
      },
      "execution_count": null,
      "outputs": []
    },
    {
      "cell_type": "code",
      "source": [
        "final_Food[['Description']]"
      ],
      "metadata": {
        "id": "LkY4T5YiHc_J"
      },
      "execution_count": null,
      "outputs": []
    }
  ]
}