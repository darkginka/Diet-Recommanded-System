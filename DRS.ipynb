{
  "nbformat": 4,
  "nbformat_minor": 0,
  "metadata": {
    "colab": {
      "name": "DRS.ipynb",
      "provenance": [],
      "collapsed_sections": [],
      "mount_file_id": "1oVNZNHzD_o6q-cGXQZYDblJZcvx8f2eY",
      "authorship_tag": "ABX9TyMG5c055OA/wVqmzMco7U2i",
      "include_colab_link": true
    },
    "kernelspec": {
      "name": "python3",
      "display_name": "Python 3"
    },
    "language_info": {
      "name": "python"
    }
  },
  "cells": [
    {
      "cell_type": "markdown",
      "metadata": {
        "id": "view-in-github",
        "colab_type": "text"
      },
      "source": [
        "<a href=\"https://colab.research.google.com/github/darkginka/Diet-Recommanded-System/blob/main/DRS.ipynb\" target=\"_parent\"><img src=\"https://colab.research.google.com/assets/colab-badge.svg\" alt=\"Open In Colab\"/></a>"
      ]
    },
    {
      "cell_type": "markdown",
      "source": [
        "**Project Start**"
      ],
      "metadata": {
        "id": "oiyHa34jimWa"
      }
    },
    {
      "cell_type": "code",
      "source": [
        "from google.colab import drive\n",
        "drive.mount('/content/drive')"
      ],
      "metadata": {
        "id": "-OCXJ-Irjoon",
        "colab": {
          "base_uri": "https://localhost:8080/"
        },
        "outputId": "3e572ac9-6855-499c-c96e-49f74a0eb7d8"
      },
      "execution_count": null,
      "outputs": [
        {
          "output_type": "stream",
          "name": "stdout",
          "text": [
            "Drive already mounted at /content/drive; to attempt to forcibly remount, call drive.mount(\"/content/drive\", force_remount=True).\n"
          ]
        }
      ]
    },
    {
      "cell_type": "code",
      "source": [
        "import pandas as pd"
      ],
      "metadata": {
        "id": "E_3sWFropupF"
      },
      "execution_count": null,
      "outputs": []
    },
    {
      "cell_type": "code",
      "source": [
        "####### dataset #######\n",
        "food_nutrition = pd.read_csv(\"/content/drive/MyDrive/dataset/food_nutrition.csv\")\n",
        "disease_nutrition = pd.read_csv(\"/content/drive/MyDrive/dataset/disease_nutrition.csv\",encoding='unicode_escape')"
      ],
      "metadata": {
        "id": "8v_IcgfVKcFk"
      },
      "execution_count": null,
      "outputs": []
    },
    {
      "cell_type": "code",
      "source": [
        "#food_nutrition.info()\n",
        "for col in food_nutrition.columns:\n",
        "    print(col)\n",
        "# food_nutrition.head()"
      ],
      "metadata": {
        "id": "TOyCWGrb6dBs"
      },
      "execution_count": null,
      "outputs": []
    },
    {
      "cell_type": "code",
      "source": [
        "# disease_nutrition.info()\n",
        "disease_nutrition.head()"
      ],
      "metadata": {
        "id": "v9DgO6RuQpVG"
      },
      "execution_count": null,
      "outputs": []
    },
    {
      "cell_type": "markdown",
      "source": [
        "**Part-1**"
      ],
      "metadata": {
        "id": "JQlcIsjBcS3v"
      }
    },
    {
      "cell_type": "code",
      "source": [
        "####### Methods #######\n",
        "def get_disease(disease_name):\n",
        "\tif(disease_name not in list(disease_nutrition[\"disease\"])):\n",
        "\t\treturn False\n",
        "\telse:\n",
        "\t\treturn disease_nutrition[disease_nutrition.disease==disease_name][\"disease\"].values[0]\n",
        "\n",
        "def get_disease_name(disease_id):\n",
        "\treturn disease_nutrition[disease_nutrition.disease_id == disease_id][\"disease\"].values[0]\n",
        "\n",
        "def get_disease_id(disease):\n",
        "\treturn disease_nutrition[disease_nutrition.disease == disease][\"disease_id\"].values[0]\n",
        "\n",
        "def get_disease_ie(disease):\n",
        "\treturn disease_nutrition[disease_nutrition.disease == disease][\"ineficient_nutritions\"].values[0]"
      ],
      "metadata": {
        "id": "kb4XBo5HHHM_"
      },
      "execution_count": null,
      "outputs": []
    },
    {
      "cell_type": "code",
      "metadata": {
        "id": "rKmTI-9rRePE"
      },
      "source": [
        "####### get-set Data #######\n",
        "users_disease = input(\"Enter Disease Name: \")\n",
        "disease_name = get_disease(users_disease)\n",
        "if(disease_name==False):\n",
        "  print(\"Disease Not Found\")\n",
        "else:\n",
        "  disease_id = get_disease_id(disease_name)\n",
        "  i= disease_id-101\n",
        "  print(disease_nutrition.iloc[i])         \n",
        "  disease_ie = get_disease_ie(disease_name)\n",
        "  # print(disease_ie)\n",
        "#Convert disease-nutritions column value into list\n",
        "  dis_list = list(disease_ie.split(\" \"))\n",
        "#Convert food column into list\n",
        "  col_list = food_nutrition.columns.values.tolist()\n",
        " # print(dis_list)\n",
        "  for ele in dis_list:\n",
        "    if(ele==\"\"):\n",
        "      dis_list.remove(ele)\n",
        "  print(dis_list)"
      ],
      "execution_count": null,
      "outputs": []
    },
    {
      "cell_type": "markdown",
      "source": [
        "**Part-2**"
      ],
      "metadata": {
        "id": "keV_1MB7JTH4"
      }
    },
    {
      "cell_type": "code",
      "source": [
        "import seaborn as sns\n",
        "import matplotlib.pyplot as plt"
      ],
      "metadata": {
        "id": "Xjt96DIpCbGL"
      },
      "execution_count": null,
      "outputs": []
    },
    {
      "cell_type": "code",
      "source": [
        "ax = sns.heatmap(food_nutrition.corr(),annot=True)\n",
        "plt.show()"
      ],
      "metadata": {
        "id": "OS9YcHfjr9z6"
      },
      "execution_count": null,
      "outputs": []
    },
    {
      "cell_type": "code",
      "source": [
        "food_nutrition[dis_list].hist(bins=50, figsize=(10,10))\n",
        "plt.show()"
      ],
      "metadata": {
        "id": "cfS4GiOsscab"
      },
      "execution_count": null,
      "outputs": []
    },
    {
      "cell_type": "markdown",
      "source": [
        "**Preprocessing data**"
      ],
      "metadata": {
        "id": "CEtSfU90uXn4"
      }
    },
    {
      "cell_type": "code",
      "source": [
        "from sklearn.preprocessing import MinMaxScaler"
      ],
      "metadata": {
        "id": "R_moi4NvuNBg"
      },
      "execution_count": 85,
      "outputs": []
    },
    {
      "cell_type": "code",
      "source": [
        "columns_to_cluster = dis_list"
      ],
      "metadata": {
        "id": "B4NwN2TrtKpa"
      },
      "execution_count": 86,
      "outputs": []
    },
    {
      "cell_type": "code",
      "source": [
        "#MinMaxScaler\n",
        "#Transform features by scaling each feature to a given range.Here is an example to scale a data matrix to the [0, 1] range:\n",
        "mms = MinMaxScaler()\n",
        "food_scaled = mms.fit_transform(food_nutrition[columns_to_cluster])\n",
        "print(\"Scaled Food Value: \", food_scaled[0,:])"
      ],
      "metadata": {
        "id": "dFVzAPxstSB8",
        "colab": {
          "base_uri": "https://localhost:8080/"
        },
        "outputId": "84b43fd9-f1b9-46b4-dd47-2ed15821c9fb"
      },
      "execution_count": 88,
      "outputs": [
        {
          "output_type": "stream",
          "name": "stdout",
          "text": [
            "Scaled Food Value:  [0.02435152 0.         0.00205714 0.0097522  0.0017196  0.00059893\n",
            " 0.00053548]\n"
          ]
        }
      ]
    },
    {
      "cell_type": "code",
      "source": [
        "columns_to_cluster_scaled = dis_list"
      ],
      "metadata": {
        "id": "kpPikBjJuquY"
      },
      "execution_count": null,
      "outputs": []
    },
    {
      "cell_type": "code",
      "source": [
        "df_food_scaled = pd.DataFrame(food_scaled, columns=columns_to_cluster_scaled)"
      ],
      "metadata": {
        "id": "_TJJiZwxuc3K"
      },
      "execution_count": null,
      "outputs": []
    },
    {
      "cell_type": "code",
      "source": [
        "ax = sns.heatmap(df_food_scaled.corr(), annot=True)\n",
        "plt.show()"
      ],
      "metadata": {
        "id": "esuIwBjCuypz"
      },
      "execution_count": null,
      "outputs": []
    },
    {
      "cell_type": "markdown",
      "source": [
        "**Training the model**"
      ],
      "metadata": {
        "id": "por7U-Cru7-K"
      }
    },
    {
      "cell_type": "code",
      "source": [
        "from sklearn.cluster import KMeans\n",
        "from sklearn.metrics import silhouette_score"
      ],
      "metadata": {
        "id": "DzH0dANBvKI_"
      },
      "execution_count": null,
      "outputs": []
    },
    {
      "cell_type": "code",
      "source": [
        "n_clusters = range(2,21)\n",
        "ssd = []\n",
        "sc = []\n",
        "for n in n_clusters:\n",
        "    km = KMeans(n_clusters=n, max_iter=300, n_init=10, init='k-means++', random_state=42)\n",
        "    km.fit(food_scaled)\n",
        "    preds = km.predict(food_scaled) \n",
        "    centers = km.cluster_centers_ \n",
        "    ssd.append(km.inertia_) \n",
        "    score = silhouette_score(food_scaled, preds, metric='euclidean')\n",
        "    sc.append(score)\n",
        "    print(\"Number of Clusters = {}, Silhouette Score = {}\".format(n, score))"
      ],
      "metadata": {
        "id": "na9UZIQnu7Ky",
        "colab": {
          "base_uri": "https://localhost:8080/"
        },
        "outputId": "27c060f7-d4bd-4870-e1a2-614433bfa1c1"
      },
      "execution_count": null,
      "outputs": [
        {
          "output_type": "stream",
          "name": "stdout",
          "text": [
            "Number of Clusters = 2, Silhouette Score = 0.6377703197801713\n",
            "Number of Clusters = 3, Silhouette Score = 0.5871792456100594\n",
            "Number of Clusters = 4, Silhouette Score = 0.5929653272709893\n",
            "Number of Clusters = 5, Silhouette Score = 0.3851938731556179\n",
            "Number of Clusters = 6, Silhouette Score = 0.39432539885734386\n",
            "Number of Clusters = 7, Silhouette Score = 0.40702476568428386\n",
            "Number of Clusters = 8, Silhouette Score = 0.36417582666139425\n",
            "Number of Clusters = 9, Silhouette Score = 0.3723514878174952\n",
            "Number of Clusters = 10, Silhouette Score = 0.3747458853948939\n",
            "Number of Clusters = 11, Silhouette Score = 0.37697321858484817\n",
            "Number of Clusters = 12, Silhouette Score = 0.3896183931290962\n",
            "Number of Clusters = 13, Silhouette Score = 0.38698192158325445\n",
            "Number of Clusters = 14, Silhouette Score = 0.34240756750688967\n",
            "Number of Clusters = 15, Silhouette Score = 0.2939658435603981\n",
            "Number of Clusters = 16, Silhouette Score = 0.2930703692588652\n"
          ]
        }
      ]
    },
    {
      "cell_type": "code",
      "source": [
        ""
      ],
      "metadata": {
        "id": "udxbqkxkz2ok"
      },
      "execution_count": null,
      "outputs": []
    },
    {
      "cell_type": "code",
      "source": [
        "plt.plot(n_clusters, ssd, marker='.', markersize=12)\n",
        "plt.xlabel('Number of clusters')\n",
        "plt.ylabel('Sum of squared distances')\n",
        "plt.title('Elbow method for optimal K')\n",
        "plt.show()"
      ],
      "metadata": {
        "id": "qALRV_VHvfYK",
        "colab": {
          "base_uri": "https://localhost:8080/",
          "height": 295
        },
        "outputId": "febc2811-3814-4921-86d4-2416cc866177"
      },
      "execution_count": 92,
      "outputs": [
        {
          "output_type": "display_data",
          "data": {
            "text/plain": [
              "<Figure size 432x288 with 1 Axes>"
            ],
            "image/png": "[encoded data removed]"
          },
          "metadata": {
            "needs_background": "light"
          }
        }
      ]
    },
    {
      "cell_type": "code",
      "source": [
        "k=6\n",
        "model = KMeans(n_clusters=k, random_state=42).fit(food_scaled)\n",
        "pred = model.predict(food_scaled)\n",
        "print('10 first clusters: ', model.labels_[:10])"
      ],
      "metadata": {
        "id": "-AgO-LjFvi3g",
        "colab": {
          "base_uri": "https://localhost:8080/"
        },
        "outputId": "7bcae236-dcb9-49fb-af39-6e9f0c2eba66"
      },
      "execution_count": 138,
      "outputs": [
        {
          "output_type": "stream",
          "name": "stdout",
          "text": [
            "10 first clusters:  [1 1 1 1 1 1 1 1 1 1]\n"
          ]
        }
      ]
    },
    {
      "cell_type": "markdown",
      "source": [
        "**Visualizing the clusters**"
      ],
      "metadata": {
        "id": "In0ai31rvp7E"
      }
    },
    {
      "cell_type": "code",
      "source": [
        "df_food_scaled['cluster'] = model.labels_\n",
        "df_food_scaled['cluster'].value_counts().plot(kind='bar')\n",
        "plt.xlabel('Cluster')\n",
        "plt.ylabel('Amount of food')\n",
        "plt.title('Amount of foods per cluster')\n",
        "plt.show()"
      ],
      "metadata": {
        "id": "ZAZWrHsjvm6h"
      },
      "execution_count": null,
      "outputs": []
    },
    {
      "cell_type": "code",
      "source": [
        "display(df_food_scaled['cluster'].value_counts())\n",
        "minor_cluster = df_food_scaled['cluster'].value_counts().tail(1)\n",
        "print(\"Amount of food in the smallest cluster: \", int(minor_cluster.values))"
      ],
      "metadata": {
        "id": "0Pa9WkgcvxXj"
      },
      "execution_count": null,
      "outputs": []
    },
    {
      "cell_type": "code",
      "source": [
        "df_food_joined = pd.concat([food_nutrition,df_food_scaled], axis=1).set_index('cluster')\n",
        "\n",
        "for cluster in range(k):\n",
        "    display(df_food_joined.loc[cluster, ['Description']].sample(frac=1).head(10))"
      ],
      "metadata": {
        "id": "Cr4skGQbv00I"
      },
      "execution_count": null,
      "outputs": []
    },
    {
      "cell_type": "markdown",
      "source": [
        "**Applying PCA to visualize the clusters**"
      ],
      "metadata": {
        "id": "j-WVhbG1Ei11"
      }
    },
    {
      "cell_type": "code",
      "source": [
        "from sklearn.decomposition import PCA"
      ],
      "metadata": {
        "id": "O0NL6__ujskN"
      },
      "execution_count": 142,
      "outputs": []
    },
    {
      "cell_type": "code",
      "source": [
        "pca = PCA(n_components=3, random_state=42)\n",
        "food_pca = pca.fit_transform(food_scaled)\n",
        "pca.explained_variance_ratio_.sum()"
      ],
      "metadata": {
        "id": "nk9w0Nm5ELHX"
      },
      "execution_count": null,
      "outputs": []
    },
    {
      "cell_type": "code",
      "source": [
        "df_pca = pd.DataFrame(food_pca, columns=['C1', 'C2', 'C3'])\n",
        "df_pca['cluster'] = model.labels_\n",
        "df_pca.head()"
      ],
      "metadata": {
        "id": "cEvj7pRrEtgX",
        "colab": {
          "base_uri": "https://localhost:8080/",
          "height": 206
        },
        "outputId": "e78554bf-a053-4391-8b90-2017cf2926dc"
      },
      "execution_count": 144,
      "outputs": [
        {
          "output_type": "execute_result",
          "data": {
            "text/plain": [
              "         C1        C2        C3  cluster\n",
              "0 -0.042362 -0.005529 -0.002430        1\n",
              "1 -0.042035 -0.015486  0.002056        1\n",
              "2 -0.041687 -0.007586 -0.002269        1\n",
              "3 -0.041843 -0.004141 -0.004138        1\n",
              "4 -0.041687 -0.007586 -0.002269        1"
            ],
            "text/html": [
              "\n",
              "  <div id=\"df-54f6f892-6a8f-4069-b00c-c9c57e574b65\">\n",
              "    <div class=\"colab-df-container\">\n",
              "      <div>\n",
              "<style scoped>\n",
              "    .dataframe tbody tr th:only-of-type {\n",
              "        vertical-align: middle;\n",
              "    }\n",
              "\n",
              "    .dataframe tbody tr th {\n",
              "        vertical-align: top;\n",
              "    }\n",
              "\n",
              "    .dataframe thead th {\n",
              "        text-align: right;\n",
              "    }\n",
              "</style>\n",
              "<table border=\"1\" class=\"dataframe\">\n",
              "  <thead>\n",
              "    <tr style=\"text-align: right;\">\n",
              "      <th></th>\n",
              "      <th>C1</th>\n",
              "      <th>C2</th>\n",
              "      <th>C3</th>\n",
              "      <th>cluster</th>\n",
              "    </tr>\n",
              "  </thead>\n",
              "  <tbody>\n",
              "    <tr>\n",
              "      <th>0</th>\n",
              "      <td>-0.042362</td>\n",
              "      <td>-0.005529</td>\n",
              "      <td>-0.002430</td>\n",
              "      <td>1</td>\n",
              "    </tr>\n",
              "    <tr>\n",
              "      <th>1</th>\n",
              "      <td>-0.042035</td>\n",
              "      <td>-0.015486</td>\n",
              "      <td>0.002056</td>\n",
              "      <td>1</td>\n",
              "    </tr>\n",
              "    <tr>\n",
              "      <th>2</th>\n",
              "      <td>-0.041687</td>\n",
              "      <td>-0.007586</td>\n",
              "      <td>-0.002269</td>\n",
              "      <td>1</td>\n",
              "    </tr>\n",
              "    <tr>\n",
              "      <th>3</th>\n",
              "      <td>-0.041843</td>\n",
              "      <td>-0.004141</td>\n",
              "      <td>-0.004138</td>\n",
              "      <td>1</td>\n",
              "    </tr>\n",
              "    <tr>\n",
              "      <th>4</th>\n",
              "      <td>-0.041687</td>\n",
              "      <td>-0.007586</td>\n",
              "      <td>-0.002269</td>\n",
              "      <td>1</td>\n",
              "    </tr>\n",
              "  </tbody>\n",
              "</table>\n",
              "</div>\n",
              "      <button class=\"colab-df-convert\" onclick=\"convertToInteractive('df-54f6f892-6a8f-4069-b00c-c9c57e574b65')\"\n",
              "              title=\"Convert this dataframe to an interactive table.\"\n",
              "              style=\"display:none;\">\n",
              "        \n",
              "  <svg xmlns=\"http://www.w3.org/2000/svg\" height=\"24px\"viewBox=\"0 0 24 24\"\n",
              "       width=\"24px\">\n",
              "    <path d=\"M0 0h24v24H0V0z\" fill=\"none\"/>\n",
              "    <path d=\"M18.56 5.44l.94 2.06.94-2.06 2.06-.94-2.06-.94-.94-2.06-.94 2.06-2.06.94zm-11 1L8.5 8.5l.94-2.06 2.06-.94-2.06-.94L8.5 2.5l-.94 2.06-2.06.94zm10 10l.94 2.06.94-2.06 2.06-.94-2.06-.94-.94-2.06-.94 2.06-2.06.94z\"/><path d=\"M17.41 7.96l-1.37-1.37c-.4-.4-.92-.59-1.43-.59-.52 0-1.04.2-1.43.59L10.3 9.45l-7.72 7.72c-.78.78-.78 2.05 0 2.83L4 21.41c.39.39.9.59 1.41.59.51 0 1.02-.2 1.41-.59l7.78-7.78 2.81-2.81c.8-.78.8-2.07 0-2.86zM5.41 20L4 18.59l7.72-7.72 1.47 1.35L5.41 20z\"/>\n",
              "  </svg>\n",
              "      </button>\n",
              "      \n",
              "  <style>\n",
              "    .colab-df-container {\n",
              "      display:flex;\n",
              "      flex-wrap:wrap;\n",
              "      gap: 12px;\n",
              "    }\n",
              "\n",
              "    .colab-df-convert {\n",
              "      background-color: #E8F0FE;\n",
              "      border: none;\n",
              "      border-radius: 50%;\n",
              "      cursor: pointer;\n",
              "      display: none;\n",
              "      fill: #1967D2;\n",
              "      height: 32px;\n",
              "      padding: 0 0 0 0;\n",
              "      width: 32px;\n",
              "    }\n",
              "\n",
              "    .colab-df-convert:hover {\n",
              "      background-color: #E2EBFA;\n",
              "      box-shadow: 0px 1px 2px rgba(60, 64, 67, 0.3), 0px 1px 3px 1px rgba(60, 64, 67, 0.15);\n",
              "      fill: #174EA6;\n",
              "    }\n",
              "\n",
              "    [theme=dark] .colab-df-convert {\n",
              "      background-color: #3B4455;\n",
              "      fill: #D2E3FC;\n",
              "    }\n",
              "\n",
              "    [theme=dark] .colab-df-convert:hover {\n",
              "      background-color: #434B5C;\n",
              "      box-shadow: 0px 1px 3px 1px rgba(0, 0, 0, 0.15);\n",
              "      filter: drop-shadow(0px 1px 2px rgba(0, 0, 0, 0.3));\n",
              "      fill: #FFFFFF;\n",
              "    }\n",
              "  </style>\n",
              "\n",
              "      <script>\n",
              "        const buttonEl =\n",
              "          document.querySelector('#df-54f6f892-6a8f-4069-b00c-c9c57e574b65 button.colab-df-convert');\n",
              "        buttonEl.style.display =\n",
              "          google.colab.kernel.accessAllowed ? 'block' : 'none';\n",
              "\n",
              "        async function convertToInteractive(key) {\n",
              "          const element = document.querySelector('#df-54f6f892-6a8f-4069-b00c-c9c57e574b65');\n",
              "          const dataTable =\n",
              "            await google.colab.kernel.invokeFunction('convertToInteractive',\n",
              "                                                     [key], {});\n",
              "          if (!dataTable) return;\n",
              "\n",
              "          const docLinkHtml = 'Like what you see? Visit the ' +\n",
              "            '<a target=\"_blank\" href=https://colab.research.google.com/notebooks/data_table.ipynb>data table notebook</a>'\n",
              "            + ' to learn more about interactive tables.';\n",
              "          element.innerHTML = '';\n",
              "          dataTable['output_type'] = 'display_data';\n",
              "          await google.colab.output.renderOutput(dataTable, element);\n",
              "          const docLink = document.createElement('div');\n",
              "          docLink.innerHTML = docLinkHtml;\n",
              "          element.appendChild(docLink);\n",
              "        }\n",
              "      </script>\n",
              "    </div>\n",
              "  </div>\n",
              "  "
            ]
          },
          "metadata": {},
          "execution_count": 144
        }
      ]
    },
    {
      "cell_type": "code",
      "source": [
        "sampled_clusters_pca = pd.DataFrame()\n",
        "\n",
        "for c in df_pca.cluster.unique():\n",
        "    df_cluster_sampled_pca = df_pca[df_pca.cluster == c].sample(n=int(minor_cluster), random_state=42)\n",
        "    sampled_clusters_pca = pd.concat([sampled_clusters_pca,df_cluster_sampled_pca], axis=0)\n",
        "sampled_clusters_pca.cluster.value_counts()"
      ],
      "metadata": {
        "id": "XQkLhKM_E8-t",
        "colab": {
          "base_uri": "https://localhost:8080/"
        },
        "outputId": "d8d3f4f3-1bd7-46b0-b451-f340200dfbc3"
      },
      "execution_count": 145,
      "outputs": [
        {
          "output_type": "execute_result",
          "data": {
            "text/plain": [
              "1    111\n",
              "0    111\n",
              "2    111\n",
              "3    111\n",
              "4    111\n",
              "Name: cluster, dtype: int64"
            ]
          },
          "metadata": {},
          "execution_count": 145
        }
      ]
    },
    {
      "cell_type": "code",
      "source": [
        "sns.scatterplot(x='C1', y='C2', hue='cluster', data=sampled_clusters_pca, legend=\"full\", palette='Paired')\n",
        "plt.legend(bbox_to_anchor=(1.05, 1), loc=2, borderaxespad=0.)\n",
        "plt.title('Clusters view using PCA')\n",
        "plt.show()"
      ],
      "metadata": {
        "id": "OKypwCY1FFIV",
        "colab": {
          "base_uri": "https://localhost:8080/",
          "height": 295
        },
        "outputId": "ceafabac-8bae-4553-a793-ba7c7f5459a9"
      },
      "execution_count": 146,
      "outputs": [
        {
          "output_type": "display_data",
          "data": {
            "text/plain": [
              "<Figure size 432x288 with 1 Axes>"
            ],
            "image/png": "[encoded data removed]"
          },
          "metadata": {
            "needs_background": "light"
          }
        }
      ]
    },
    {
      "cell_type": "markdown",
      "source": [
        "**Predicting users clusters**"
      ],
      "metadata": {
        "id": "xNiV7IlTFSzl"
      }
    },
    {
      "cell_type": "code",
      "source": [
        "user_pred = model.predict(food_scaled)\n",
        "print('10 first users clusters: ', user_pred[:10])"
      ],
      "metadata": {
        "id": "XIWJaZ5mFSC0",
        "colab": {
          "base_uri": "https://localhost:8080/"
        },
        "outputId": "2a3851d7-9438-4932-b19e-cd6b91dc3786"
      },
      "execution_count": 158,
      "outputs": [
        {
          "output_type": "stream",
          "name": "stdout",
          "text": [
            "15 first users clusters:  [1 1 1 1 1 1 1 1 1 1 1 1 1 1 1]\n"
          ]
        }
      ]
    },
    {
      "cell_type": "code",
      "source": [
        "user_cluster = pd.DataFrame(food_scaled, columns=columns_to_cluster_scaled)\n",
        "user_cluster['cluster'] = user_pred\n",
        "\n",
        "user_cluster['cluster'].value_counts().plot(kind='bar', color='green')\n",
        "plt.xlabel('Cluster')\n",
        "plt.ylabel('Amount of food')\n",
        "plt.title('Amount of food in the users clusters')\n",
        "plt.show()"
      ],
      "metadata": {
        "id": "K7UiVzXQFY9x"
      },
      "execution_count": null,
      "outputs": []
    },
    {
      "cell_type": "code",
      "source": [
        "df_user_food_joined = pd.concat([food_nutrition,user_cluster], axis=1).set_index('cluster')\n",
        "for cluster in user_cluster['cluster'].unique():\n",
        "    display(df_user_food_joined.loc[cluster, ['Description']].sample(frac=1).head(10))"
      ],
      "metadata": {
        "id": "TbuJPQIzFc-Q"
      },
      "execution_count": null,
      "outputs": []
    },
    {
      "cell_type": "markdown",
      "source": [
        "**Recommending Food**"
      ],
      "metadata": {
        "id": "GHWuNY-eG8X6"
      }
    },
    {
      "cell_type": "code",
      "source": [
        "df_user_food_joined.reset_index(inplace=True)\n",
        "cluster_pct = df_user_food_joined.cluster.value_counts(normalize=True)*20\n",
        "\n",
        "if int(cluster_pct.round(0).sum()) < 20:\n",
        "    cluster_pct[cluster_pct < 0.5] = cluster_pct[cluster_pct < 0.5] + 1.0\n",
        "    \n",
        "display(cluster_pct)\n",
        "print('Total food: ', int(cluster_pct.round(0).sum()))"
      ],
      "metadata": {
        "id": "x1iHxp4AHA2F"
      },
      "execution_count": null,
      "outputs": []
    },
    {
      "cell_type": "code",
      "source": [
        "df_food_joined.reset_index(inplace=True)\n",
        "df_food_joined.head(3)"
      ],
      "metadata": {
        "id": "eowKrApzHN0t"
      },
      "execution_count": null,
      "outputs": []
    },
    {
      "cell_type": "code",
      "source": [
        "df_user_food_joined['cluster_pct'] = df_user_food_joined['cluster'].apply(lambda c: cluster_pct[c])\n",
        "df_user_food_joined.drop(columns=columns_to_cluster_scaled, inplace=True)\n",
        "df_user_food_joined.head(3)"
      ],
      "metadata": {
        "id": "PuAVcEGSHZRI"
      },
      "execution_count": null,
      "outputs": []
    },
    {
      "cell_type": "code",
      "source": [
        "final_Food = pd.DataFrame()\n",
        "\n",
        "for ncluster, pct in cluster_pct.items():\n",
        "    songs = df_food_joined[df_food_joined['cluster'] == ncluster].sample(n=int(round(pct, 0)))\n",
        "    final_Food = pd.concat([final_Food,songs], ignore_index=True)\n",
        "    if len(final_Food) > 20 :\n",
        "        flag = 20 - len(final_Food)\n",
        "        final_Food = final_Food[:flag]\n",
        "final_Food.head(3)"
      ],
      "metadata": {
        "id": "LpyeWdIxHanO",
        "colab": {
          "base_uri": "https://localhost:8080/",
          "height": 410
        },
        "outputId": "3f4833e3-d41d-4f51-a0d2-b174bf1838dc"
      },
      "execution_count": 172,
      "outputs": [
        {
          "output_type": "execute_result",
          "data": {
            "text/plain": [
              "   index  cluster         Category  \\\n",
              "0   1665        1  Venison or deer   \n",
              "1   2781        1            Bread   \n",
              "2   4836        1             Pear   \n",
              "\n",
              "                                         Description  NutrientDataBankNumber  \\\n",
              "0  Venison or deer, noodles, and vegetables inclu...                27336300   \n",
              "1  Bread, native, water, toasted, Puerto Rican style                51106020   \n",
              "2                             Pear, canned, in syrup                63137140   \n",
              "\n",
              "   Carotene  Cryptoxanthin  Carbohydrate  Cholesterol  Choline  ...  \\\n",
              "0       844              1         13.64           28     33.8  ...   \n",
              "1         1              0         57.11            0      9.5  ...   \n",
              "2         0              0         15.15            0      3.1  ...   \n",
              "\n",
              "   Vitamin_C  Vitamin_E  Vitamin_K  SaturatedFat     Fiber  Riboflavin  \\\n",
              "0        5.6       1.17       14.0      0.011939  0.032468    0.009943   \n",
              "1        0.0       0.44        1.2      0.009430  0.043290    0.022114   \n",
              "2        0.9       0.07        0.3      0.000024  0.032468    0.000629   \n",
              "\n",
              "   Vitamin_A      Zinc  Vitamin_D  Vitamin_E  \n",
              "0   0.013909  0.015578   0.006888   0.007831  \n",
              "1   0.000000  0.008699   0.018096   0.002945  \n",
              "2   0.000000  0.000809   0.000299   0.000469  \n",
              "\n",
              "[3 rows x 46 columns]"
            ],
            "text/html": [
              "\n",
              "  <div id=\"df-13105805-e6e1-4a33-a474-8368c4de5659\">\n",
              "    <div class=\"colab-df-container\">\n",
              "      <div>\n",
              "<style scoped>\n",
              "    .dataframe tbody tr th:only-of-type {\n",
              "        vertical-align: middle;\n",
              "    }\n",
              "\n",
              "    .dataframe tbody tr th {\n",
              "        vertical-align: top;\n",
              "    }\n",
              "\n",
              "    .dataframe thead th {\n",
              "        text-align: right;\n",
              "    }\n",
              "</style>\n",
              "<table border=\"1\" class=\"dataframe\">\n",
              "  <thead>\n",
              "    <tr style=\"text-align: right;\">\n",
              "      <th></th>\n",
              "      <th>index</th>\n",
              "      <th>cluster</th>\n",
              "      <th>Category</th>\n",
              "      <th>Description</th>\n",
              "      <th>NutrientDataBankNumber</th>\n",
              "      <th>Carotene</th>\n",
              "      <th>Cryptoxanthin</th>\n",
              "      <th>Carbohydrate</th>\n",
              "      <th>Cholesterol</th>\n",
              "      <th>Choline</th>\n",
              "      <th>...</th>\n",
              "      <th>Vitamin_C</th>\n",
              "      <th>Vitamin_E</th>\n",
              "      <th>Vitamin_K</th>\n",
              "      <th>SaturatedFat</th>\n",
              "      <th>Fiber</th>\n",
              "      <th>Riboflavin</th>\n",
              "      <th>Vitamin_A</th>\n",
              "      <th>Zinc</th>\n",
              "      <th>Vitamin_D</th>\n",
              "      <th>Vitamin_E</th>\n",
              "    </tr>\n",
              "  </thead>\n",
              "  <tbody>\n",
              "    <tr>\n",
              "      <th>0</th>\n",
              "      <td>1665</td>\n",
              "      <td>1</td>\n",
              "      <td>Venison or deer</td>\n",
              "      <td>Venison or deer, noodles, and vegetables inclu...</td>\n",
              "      <td>27336300</td>\n",
              "      <td>844</td>\n",
              "      <td>1</td>\n",
              "      <td>13.64</td>\n",
              "      <td>28</td>\n",
              "      <td>33.8</td>\n",
              "      <td>...</td>\n",
              "      <td>5.6</td>\n",
              "      <td>1.17</td>\n",
              "      <td>14.0</td>\n",
              "      <td>0.011939</td>\n",
              "      <td>0.032468</td>\n",
              "      <td>0.009943</td>\n",
              "      <td>0.013909</td>\n",
              "      <td>0.015578</td>\n",
              "      <td>0.006888</td>\n",
              "      <td>0.007831</td>\n",
              "    </tr>\n",
              "    <tr>\n",
              "      <th>1</th>\n",
              "      <td>2781</td>\n",
              "      <td>1</td>\n",
              "      <td>Bread</td>\n",
              "      <td>Bread, native, water, toasted, Puerto Rican style</td>\n",
              "      <td>51106020</td>\n",
              "      <td>1</td>\n",
              "      <td>0</td>\n",
              "      <td>57.11</td>\n",
              "      <td>0</td>\n",
              "      <td>9.5</td>\n",
              "      <td>...</td>\n",
              "      <td>0.0</td>\n",
              "      <td>0.44</td>\n",
              "      <td>1.2</td>\n",
              "      <td>0.009430</td>\n",
              "      <td>0.043290</td>\n",
              "      <td>0.022114</td>\n",
              "      <td>0.000000</td>\n",
              "      <td>0.008699</td>\n",
              "      <td>0.018096</td>\n",
              "      <td>0.002945</td>\n",
              "    </tr>\n",
              "    <tr>\n",
              "      <th>2</th>\n",
              "      <td>4836</td>\n",
              "      <td>1</td>\n",
              "      <td>Pear</td>\n",
              "      <td>Pear, canned, in syrup</td>\n",
              "      <td>63137140</td>\n",
              "      <td>0</td>\n",
              "      <td>0</td>\n",
              "      <td>15.15</td>\n",
              "      <td>0</td>\n",
              "      <td>3.1</td>\n",
              "      <td>...</td>\n",
              "      <td>0.9</td>\n",
              "      <td>0.07</td>\n",
              "      <td>0.3</td>\n",
              "      <td>0.000024</td>\n",
              "      <td>0.032468</td>\n",
              "      <td>0.000629</td>\n",
              "      <td>0.000000</td>\n",
              "      <td>0.000809</td>\n",
              "      <td>0.000299</td>\n",
              "      <td>0.000469</td>\n",
              "    </tr>\n",
              "  </tbody>\n",
              "</table>\n",
              "<p>3 rows × 46 columns</p>\n",
              "</div>\n",
              "      <button class=\"colab-df-convert\" onclick=\"convertToInteractive('df-13105805-e6e1-4a33-a474-8368c4de5659')\"\n",
              "              title=\"Convert this dataframe to an interactive table.\"\n",
              "              style=\"display:none;\">\n",
              "        \n",
              "  <svg xmlns=\"http://www.w3.org/2000/svg\" height=\"24px\"viewBox=\"0 0 24 24\"\n",
              "       width=\"24px\">\n",
              "    <path d=\"M0 0h24v24H0V0z\" fill=\"none\"/>\n",
              "    <path d=\"M18.56 5.44l.94 2.06.94-2.06 2.06-.94-2.06-.94-.94-2.06-.94 2.06-2.06.94zm-11 1L8.5 8.5l.94-2.06 2.06-.94-2.06-.94L8.5 2.5l-.94 2.06-2.06.94zm10 10l.94 2.06.94-2.06 2.06-.94-2.06-.94-.94-2.06-.94 2.06-2.06.94z\"/><path d=\"M17.41 7.96l-1.37-1.37c-.4-.4-.92-.59-1.43-.59-.52 0-1.04.2-1.43.59L10.3 9.45l-7.72 7.72c-.78.78-.78 2.05 0 2.83L4 21.41c.39.39.9.59 1.41.59.51 0 1.02-.2 1.41-.59l7.78-7.78 2.81-2.81c.8-.78.8-2.07 0-2.86zM5.41 20L4 18.59l7.72-7.72 1.47 1.35L5.41 20z\"/>\n",
              "  </svg>\n",
              "      </button>\n",
              "      \n",
              "  <style>\n",
              "    .colab-df-container {\n",
              "      display:flex;\n",
              "      flex-wrap:wrap;\n",
              "      gap: 12px;\n",
              "    }\n",
              "\n",
              "    .colab-df-convert {\n",
              "      background-color: #E8F0FE;\n",
              "      border: none;\n",
              "      border-radius: 50%;\n",
              "      cursor: pointer;\n",
              "      display: none;\n",
              "      fill: #1967D2;\n",
              "      height: 32px;\n",
              "      padding: 0 0 0 0;\n",
              "      width: 32px;\n",
              "    }\n",
              "\n",
              "    .colab-df-convert:hover {\n",
              "      background-color: #E2EBFA;\n",
              "      box-shadow: 0px 1px 2px rgba(60, 64, 67, 0.3), 0px 1px 3px 1px rgba(60, 64, 67, 0.15);\n",
              "      fill: #174EA6;\n",
              "    }\n",
              "\n",
              "    [theme=dark] .colab-df-convert {\n",
              "      background-color: #3B4455;\n",
              "      fill: #D2E3FC;\n",
              "    }\n",
              "\n",
              "    [theme=dark] .colab-df-convert:hover {\n",
              "      background-color: #434B5C;\n",
              "      box-shadow: 0px 1px 3px 1px rgba(0, 0, 0, 0.15);\n",
              "      filter: drop-shadow(0px 1px 2px rgba(0, 0, 0, 0.3));\n",
              "      fill: #FFFFFF;\n",
              "    }\n",
              "  </style>\n",
              "\n",
              "      <script>\n",
              "        const buttonEl =\n",
              "          document.querySelector('#df-13105805-e6e1-4a33-a474-8368c4de5659 button.colab-df-convert');\n",
              "        buttonEl.style.display =\n",
              "          google.colab.kernel.accessAllowed ? 'block' : 'none';\n",
              "\n",
              "        async function convertToInteractive(key) {\n",
              "          const element = document.querySelector('#df-13105805-e6e1-4a33-a474-8368c4de5659');\n",
              "          const dataTable =\n",
              "            await google.colab.kernel.invokeFunction('convertToInteractive',\n",
              "                                                     [key], {});\n",
              "          if (!dataTable) return;\n",
              "\n",
              "          const docLinkHtml = 'Like what you see? Visit the ' +\n",
              "            '<a target=\"_blank\" href=https://colab.research.google.com/notebooks/data_table.ipynb>data table notebook</a>'\n",
              "            + ' to learn more about interactive tables.';\n",
              "          element.innerHTML = '';\n",
              "          dataTable['output_type'] = 'display_data';\n",
              "          await google.colab.output.renderOutput(dataTable, element);\n",
              "          const docLink = document.createElement('div');\n",
              "          docLink.innerHTML = docLinkHtml;\n",
              "          element.appendChild(docLink);\n",
              "        }\n",
              "      </script>\n",
              "    </div>\n",
              "  </div>\n",
              "  "
            ]
          },
          "metadata": {},
          "execution_count": 172
        }
      ]
    },
    {
      "cell_type": "code",
      "source": [
        "final_Food[['Description']]"
      ],
      "metadata": {
        "id": "LkY4T5YiHc_J",
        "colab": {
          "base_uri": "https://localhost:8080/",
          "height": 677
        },
        "outputId": "cf532426-86bc-4d7d-ec21-0bb8d527373a"
      },
      "execution_count": 173,
      "outputs": [
        {
          "output_type": "execute_result",
          "data": {
            "text/plain": [
              "                                          Description\n",
              "0   Venison or deer, noodles, and vegetables inclu...\n",
              "1   Bread, native, water, toasted, Puerto Rican style\n",
              "2                              Pear, canned, in syrup\n",
              "3                                Quinoa, no added fat\n",
              "4   Chocolate milk, made from dry mix, NS as to ty...\n",
              "5                                Bulgur, NS as to fat\n",
              "6                Greens, frozen, cooked, no added fat\n",
              "7                                       Banana nectar\n",
              "8         Chicken, prepackaged or deli, luncheon meat\n",
              "9        Iced Coffee, pre-lightened and pre-sweetened\n",
              "10                                     Flavored pasta\n",
              "11                        Beef and potatoes, no sauce\n",
              "12                     Carrots, cooked, as ingredient\n",
              "13  Grapefruit juice, 100%, canned, bottled or in ...\n",
              "14                Burrito with chicken and sour cream\n",
              "15  Frankfurter or hot dog sandwich, with chili, o...\n",
              "16                                Cheeseburger slider\n",
              "17                                      Welsh rarebit\n",
              "18            Kidney beans, from canned, no added fat\n",
              "19                       Cream cheese, regular, plain"
            ],
            "text/html": [
              "\n",
              "  <div id=\"df-58e771ef-abd1-4783-bb20-72d96d5254da\">\n",
              "    <div class=\"colab-df-container\">\n",
              "      <div>\n",
              "<style scoped>\n",
              "    .dataframe tbody tr th:only-of-type {\n",
              "        vertical-align: middle;\n",
              "    }\n",
              "\n",
              "    .dataframe tbody tr th {\n",
              "        vertical-align: top;\n",
              "    }\n",
              "\n",
              "    .dataframe thead th {\n",
              "        text-align: right;\n",
              "    }\n",
              "</style>\n",
              "<table border=\"1\" class=\"dataframe\">\n",
              "  <thead>\n",
              "    <tr style=\"text-align: right;\">\n",
              "      <th></th>\n",
              "      <th>Description</th>\n",
              "    </tr>\n",
              "  </thead>\n",
              "  <tbody>\n",
              "    <tr>\n",
              "      <th>0</th>\n",
              "      <td>Venison or deer, noodles, and vegetables inclu...</td>\n",
              "    </tr>\n",
              "    <tr>\n",
              "      <th>1</th>\n",
              "      <td>Bread, native, water, toasted, Puerto Rican style</td>\n",
              "    </tr>\n",
              "    <tr>\n",
              "      <th>2</th>\n",
              "      <td>Pear, canned, in syrup</td>\n",
              "    </tr>\n",
              "    <tr>\n",
              "      <th>3</th>\n",
              "      <td>Quinoa, no added fat</td>\n",
              "    </tr>\n",
              "    <tr>\n",
              "      <th>4</th>\n",
              "      <td>Chocolate milk, made from dry mix, NS as to ty...</td>\n",
              "    </tr>\n",
              "    <tr>\n",
              "      <th>5</th>\n",
              "      <td>Bulgur, NS as to fat</td>\n",
              "    </tr>\n",
              "    <tr>\n",
              "      <th>6</th>\n",
              "      <td>Greens, frozen, cooked, no added fat</td>\n",
              "    </tr>\n",
              "    <tr>\n",
              "      <th>7</th>\n",
              "      <td>Banana nectar</td>\n",
              "    </tr>\n",
              "    <tr>\n",
              "      <th>8</th>\n",
              "      <td>Chicken, prepackaged or deli, luncheon meat</td>\n",
              "    </tr>\n",
              "    <tr>\n",
              "      <th>9</th>\n",
              "      <td>Iced Coffee, pre-lightened and pre-sweetened</td>\n",
              "    </tr>\n",
              "    <tr>\n",
              "      <th>10</th>\n",
              "      <td>Flavored pasta</td>\n",
              "    </tr>\n",
              "    <tr>\n",
              "      <th>11</th>\n",
              "      <td>Beef and potatoes, no sauce</td>\n",
              "    </tr>\n",
              "    <tr>\n",
              "      <th>12</th>\n",
              "      <td>Carrots, cooked, as ingredient</td>\n",
              "    </tr>\n",
              "    <tr>\n",
              "      <th>13</th>\n",
              "      <td>Grapefruit juice, 100%, canned, bottled or in ...</td>\n",
              "    </tr>\n",
              "    <tr>\n",
              "      <th>14</th>\n",
              "      <td>Burrito with chicken and sour cream</td>\n",
              "    </tr>\n",
              "    <tr>\n",
              "      <th>15</th>\n",
              "      <td>Frankfurter or hot dog sandwich, with chili, o...</td>\n",
              "    </tr>\n",
              "    <tr>\n",
              "      <th>16</th>\n",
              "      <td>Cheeseburger slider</td>\n",
              "    </tr>\n",
              "    <tr>\n",
              "      <th>17</th>\n",
              "      <td>Welsh rarebit</td>\n",
              "    </tr>\n",
              "    <tr>\n",
              "      <th>18</th>\n",
              "      <td>Kidney beans, from canned, no added fat</td>\n",
              "    </tr>\n",
              "    <tr>\n",
              "      <th>19</th>\n",
              "      <td>Cream cheese, regular, plain</td>\n",
              "    </tr>\n",
              "  </tbody>\n",
              "</table>\n",
              "</div>\n",
              "      <button class=\"colab-df-convert\" onclick=\"convertToInteractive('df-58e771ef-abd1-4783-bb20-72d96d5254da')\"\n",
              "              title=\"Convert this dataframe to an interactive table.\"\n",
              "              style=\"display:none;\">\n",
              "        \n",
              "  <svg xmlns=\"http://www.w3.org/2000/svg\" height=\"24px\"viewBox=\"0 0 24 24\"\n",
              "       width=\"24px\">\n",
              "    <path d=\"M0 0h24v24H0V0z\" fill=\"none\"/>\n",
              "    <path d=\"M18.56 5.44l.94 2.06.94-2.06 2.06-.94-2.06-.94-.94-2.06-.94 2.06-2.06.94zm-11 1L8.5 8.5l.94-2.06 2.06-.94-2.06-.94L8.5 2.5l-.94 2.06-2.06.94zm10 10l.94 2.06.94-2.06 2.06-.94-2.06-.94-.94-2.06-.94 2.06-2.06.94z\"/><path d=\"M17.41 7.96l-1.37-1.37c-.4-.4-.92-.59-1.43-.59-.52 0-1.04.2-1.43.59L10.3 9.45l-7.72 7.72c-.78.78-.78 2.05 0 2.83L4 21.41c.39.39.9.59 1.41.59.51 0 1.02-.2 1.41-.59l7.78-7.78 2.81-2.81c.8-.78.8-2.07 0-2.86zM5.41 20L4 18.59l7.72-7.72 1.47 1.35L5.41 20z\"/>\n",
              "  </svg>\n",
              "      </button>\n",
              "      \n",
              "  <style>\n",
              "    .colab-df-container {\n",
              "      display:flex;\n",
              "      flex-wrap:wrap;\n",
              "      gap: 12px;\n",
              "    }\n",
              "\n",
              "    .colab-df-convert {\n",
              "      background-color: #E8F0FE;\n",
              "      border: none;\n",
              "      border-radius: 50%;\n",
              "      cursor: pointer;\n",
              "      display: none;\n",
              "      fill: #1967D2;\n",
              "      height: 32px;\n",
              "      padding: 0 0 0 0;\n",
              "      width: 32px;\n",
              "    }\n",
              "\n",
              "    .colab-df-convert:hover {\n",
              "      background-color: #E2EBFA;\n",
              "      box-shadow: 0px 1px 2px rgba(60, 64, 67, 0.3), 0px 1px 3px 1px rgba(60, 64, 67, 0.15);\n",
              "      fill: #174EA6;\n",
              "    }\n",
              "\n",
              "    [theme=dark] .colab-df-convert {\n",
              "      background-color: #3B4455;\n",
              "      fill: #D2E3FC;\n",
              "    }\n",
              "\n",
              "    [theme=dark] .colab-df-convert:hover {\n",
              "      background-color: #434B5C;\n",
              "      box-shadow: 0px 1px 3px 1px rgba(0, 0, 0, 0.15);\n",
              "      filter: drop-shadow(0px 1px 2px rgba(0, 0, 0, 0.3));\n",
              "      fill: #FFFFFF;\n",
              "    }\n",
              "  </style>\n",
              "\n",
              "      <script>\n",
              "        const buttonEl =\n",
              "          document.querySelector('#df-58e771ef-abd1-4783-bb20-72d96d5254da button.colab-df-convert');\n",
              "        buttonEl.style.display =\n",
              "          google.colab.kernel.accessAllowed ? 'block' : 'none';\n",
              "\n",
              "        async function convertToInteractive(key) {\n",
              "          const element = document.querySelector('#df-58e771ef-abd1-4783-bb20-72d96d5254da');\n",
              "          const dataTable =\n",
              "            await google.colab.kernel.invokeFunction('convertToInteractive',\n",
              "                                                     [key], {});\n",
              "          if (!dataTable) return;\n",
              "\n",
              "          const docLinkHtml = 'Like what you see? Visit the ' +\n",
              "            '<a target=\"_blank\" href=https://colab.research.google.com/notebooks/data_table.ipynb>data table notebook</a>'\n",
              "            + ' to learn more about interactive tables.';\n",
              "          element.innerHTML = '';\n",
              "          dataTable['output_type'] = 'display_data';\n",
              "          await google.colab.output.renderOutput(dataTable, element);\n",
              "          const docLink = document.createElement('div');\n",
              "          docLink.innerHTML = docLinkHtml;\n",
              "          element.appendChild(docLink);\n",
              "        }\n",
              "      </script>\n",
              "    </div>\n",
              "  </div>\n",
              "  "
            ]
          },
          "metadata": {},
          "execution_count": 173
        }
      ]
    }
  ]
}